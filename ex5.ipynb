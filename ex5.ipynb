{
 "cells": [
  {
   "cell_type": "markdown",
   "id": "e0d9bf53",
   "metadata": {},
   "source": [
    "__1.__ Найти с помощью NumPy SVD для матрицы\n",
    "\n",
    "$$\\begin{pmatrix}\n",
    "1 & 2 & 0\\\\ \n",
    "0 & 0 & 5\\\\ \n",
    "3 & -4 & 2\\\\ \n",
    "1 & 6 & 5\\\\ \n",
    "0 & 1 & 0\n",
    "\\end{pmatrix}.$$"
   ]
  },
  {
   "cell_type": "code",
   "execution_count": 1,
   "id": "e6e536fe",
   "metadata": {},
   "outputs": [
    {
     "name": "stdout",
     "output_type": "stream",
     "text": [
      "Матрица D:\n",
      "[[8.82 0.   0.  ]\n",
      " [0.   6.14 0.  ]\n",
      " [0.   0.   2.53]\n",
      " [0.   0.   0.  ]\n",
      " [0.   0.   0.  ]]\n",
      "Матрица U:\n",
      "[[ 0.17  0.16 -0.53 -0.8  -0.16]\n",
      " [ 0.39 -0.53  0.61 -0.43  0.03]\n",
      " [-0.14 -0.82 -0.52  0.14  0.07]\n",
      " [ 0.89  0.06 -0.25  0.38 -0.06]\n",
      " [ 0.08  0.11 -0.08 -0.11  0.98]]\n",
      "[[ 1.  0. -0. -0. -0.]\n",
      " [ 0.  1.  0. -0.  0.]\n",
      " [-0.  0.  1. -0. -0.]\n",
      " [-0. -0. -0.  1. -0.]\n",
      " [-0.  0. -0. -0.  1.]]\n",
      "Матрица V:\n",
      "[[ 0.07 -0.37 -0.93]\n",
      " [ 0.72  0.67 -0.21]\n",
      " [ 0.69 -0.65  0.31]]\n",
      "[[ 1.  0.  0.]\n",
      " [ 0.  1. -0.]\n",
      " [ 0. -0.  1.]]\n",
      "Проверка:\n",
      "[[ 1.  2.  0.]\n",
      " [ 0. -0.  5.]\n",
      " [ 3. -4.  2.]\n",
      " [ 1.  6.  5.]\n",
      " [-0.  1.  0.]]\n"
     ]
    }
   ],
   "source": [
    "import numpy as np\n",
    "np.set_printoptions(precision=2, suppress=True)\n",
    "A = np.array([[1,2,0],\n",
    "              [0,0,5],\n",
    "              [3,-4,2],\n",
    "              [1,6,5],\n",
    "              [0,1,0]\n",
    "             ])\n",
    "U, s, W = np.linalg.svd(A)\n",
    "# Транспонируем матрицу W\n",
    "V = W.T\n",
    "# s - список диагональных элементов, его нужно привести к виду диагональной матрицы для наглядности\n",
    "D = np.zeros_like(A, dtype=float)\n",
    "D[np.diag_indices(min(A.shape))] = s\n",
    "print(f'Матрица D:\\n{D}')\n",
    "print(f'Матрица U:\\n{U}')\n",
    "# Убедимся, что она действительно ортогональна\n",
    "print(np.dot(U.T, U))\n",
    "print(f'Матрица V:\\n{V}')\n",
    "# Убедимся, что она действительно ортогональна\n",
    "print(np.dot(V.T, V))\n",
    "# Проведем проверку\n",
    "print(f'Проверка:\\n{np.dot(np.dot(U, D), V.T)}')"
   ]
  },
  {
   "cell_type": "markdown",
   "id": "4432b0e1",
   "metadata": {},
   "source": [
    "__2.__ Для матрицы из предыдущего задания найти:\n",
    "\n",
    "    а) евклидову норму;\n",
    "    \n",
    "    б) норму Фробениуса."
   ]
  },
  {
   "cell_type": "code",
   "execution_count": 2,
   "id": "b6415a01",
   "metadata": {},
   "outputs": [
    {
     "name": "stdout",
     "output_type": "stream",
     "text": [
      "Норма евклида = 8.824868854820442\n"
     ]
    }
   ],
   "source": [
    "#a\n",
    "print(f'Норма евклида = {D[0][0]}')"
   ]
  },
  {
   "cell_type": "code",
   "execution_count": 3,
   "id": "60252c03",
   "metadata": {},
   "outputs": [
    {
     "name": "stdout",
     "output_type": "stream",
     "text": [
      "норма Фробениуса = 11.045361017187261\n"
     ]
    }
   ],
   "source": [
    "#b\n",
    "import math\n",
    "sum=0\n",
    "for i in range(D.shape[1]):\n",
    "    sum += D[i][i]**2\n",
    "print(f'норма Фробениуса = {math.sqrt(sum)}')"
   ]
  }
 ],
 "metadata": {
  "kernelspec": {
   "display_name": "Python 3 (ipykernel)",
   "language": "python",
   "name": "python3"
  },
  "language_info": {
   "codemirror_mode": {
    "name": "ipython",
    "version": 3
   },
   "file_extension": ".py",
   "mimetype": "text/x-python",
   "name": "python",
   "nbconvert_exporter": "python",
   "pygments_lexer": "ipython3",
   "version": "3.9.7"
  }
 },
 "nbformat": 4,
 "nbformat_minor": 5
}
