{
 "cells": [
  {
   "cell_type": "markdown",
   "id": "73aabead",
   "metadata": {},
   "source": [
    "__1.__ Установить, какие произведения матриц $AB$ и $BA$ определены, и найти размерности полученных матриц:\n",
    "\n",
    "   а) $A$ — матрица $4\\times 2$, $B$ — матрица $4\\times 2$;\n",
    "    \n",
    "   б) $A$ — матрица $2\\times 5$, $B$ — матрица $5\\times 3$;\n",
    "    \n",
    "   в) $A$ — матрица $8\\times 3$, $B$ — матрица $3\\times 8$;\n",
    "    \n",
    "   г) $A$ — квадратная матрица $4\\times 4$, $B$ — квадратная матрица $4\\times 4$."
   ]
  },
  {
   "cell_type": "markdown",
   "id": "36b1756e",
   "metadata": {},
   "source": [
    "__Решение:__<br><br>\n",
    "Правильно:<br>\n",
    "Произведением матрицы $A = \\left\\|a_{ij}\\right\\|$ имеющей порядки m и n, и матрицы $B = \\left\\|b_{ij}\\right\\|$ включающей порядки n и k, называется матрица $C = \\left\\|c_{ij}\\right\\|$ c порядками m и k:\n",
    "$$C = \\begin{pmatrix}\n",
    "c_{11} & c_{12} & \\cdots & c_{1k}\\\\ \n",
    "c_{21} & c_{22} & \\cdots & c_{2k}\\\\  \n",
    "\\cdots & \\cdots & \\ddots & \\cdots \\\\ \n",
    "c_{m1} & c_{m2} & \\cdots & c_{mk}\\\\ \n",
    "\\end{pmatrix}.$$\n",
    "наполненная элементами определяемыми формулой:<br>\n",
    "$$c_{ij} = \\sum_{p=1}^{n}a_{ip}\\cdot b_{pj}$$\n",
    "Матрицу A можно умножить не на любую матрицу B: __важно чтобы__\n",
    "__число столбцов матрицы__ A __было равно числу строк матрицы__ B\n",
    "<br>\n",
    "__Проверим это условие на предложенных вариантах:__\n",
    "<br>\n",
    "а) A — матрица 4×2, B — матрица 4×2; - __AB - 2 не равно 4, перемножить__\n",
    "__нельзя, BA - тоже нельзя перемножить, так как 2(стобла) не равно__\n",
    "__колличеству строк 4.__<br>\n",
    "<br>б) A — матрица 2×5, B — матрица 5×3; - __AB - перемножить можно,__\n",
    "__размерность 2×3, ВА перемножать нельзя, так как 3 не равно 2.__\n",
    "<br><br>в) A — матрица 8×3, B — матрица 3×8; - __AB - перемножить можно,__\n",
    "__размерность 8×8, ВА перемножать можно, размерность 3×3.__\n",
    "<br><br>A - квадратная матрица размером 4×4, В - квадратная матрица размером 4×4 - __АВ, ВА перемножить можно, размерность 4×4.__"
   ]
  },
  {
   "cell_type": "markdown",
   "id": "d2b1ada2",
   "metadata": {},
   "source": [
    "__2.__ Найти сумму и произведение матриц $A=\\begin{pmatrix}\n",
    "1 & -2\\\\ \n",
    "3 & 0\n",
    "\\end{pmatrix}$ и $B=\\begin{pmatrix}\n",
    "4 & -1\\\\ \n",
    "0 & 5\n",
    "\\end{pmatrix}.$"
   ]
  },
  {
   "cell_type": "markdown",
   "id": "3b623c73",
   "metadata": {},
   "source": [
    "__Решение:__<br><br>\n",
    "Сумма:<br>\n",
    "$$\\begin{pmatrix}\n",
    "1 & -2\\\\ \n",
    "3 & 0\n",
    "\\end{pmatrix}\n",
    "+ \\begin{pmatrix}\n",
    "4 & -1\\\\ \n",
    "0 & 5\n",
    "\\end{pmatrix}\n",
    "= \n",
    "\\begin{pmatrix}\n",
    "5 & -3\\\\ \n",
    "3 & 5\n",
    "\\end{pmatrix}\n",
    "$$\n"
   ]
  },
  {
   "cell_type": "code",
   "execution_count": 1,
   "id": "76e5b9c2",
   "metadata": {},
   "outputs": [
    {
     "data": {
      "text/plain": [
       "array([[ 5, -3],\n",
       "       [ 3,  5]])"
      ]
     },
     "execution_count": 1,
     "metadata": {},
     "output_type": "execute_result"
    }
   ],
   "source": [
    "import numpy as np\n",
    "import math\n",
    "\n",
    "a = np.array([[1, -2], [3, 0]])\n",
    "b = np.array([[4, -1], [0, 5]])\n",
    "a + b"
   ]
  },
  {
   "cell_type": "markdown",
   "id": "1bf6b967",
   "metadata": {},
   "source": [
    "\n",
    "Произведение:<br>\n",
    "$$\\begin{pmatrix}\n",
    "1 & -2\\\\ \n",
    "3 & 0\n",
    "\\end{pmatrix}\n",
    "\\cdot \\begin{pmatrix}\n",
    "4 & -1\\\\ \n",
    "0 & 5\n",
    "\\end{pmatrix}\n",
    "= \n",
    "\\begin{pmatrix}\n",
    "4 & -11\\\\ \n",
    "12 & 3\n",
    "\\end{pmatrix}\n",
    "$$\n"
   ]
  },
  {
   "cell_type": "code",
   "execution_count": 2,
   "id": "e2bee3a9",
   "metadata": {},
   "outputs": [
    {
     "data": {
      "text/plain": [
       "array([[  4, -11],\n",
       "       [ 12,  -3]])"
      ]
     },
     "execution_count": 2,
     "metadata": {},
     "output_type": "execute_result"
    }
   ],
   "source": [
    "a@b"
   ]
  },
  {
   "cell_type": "markdown",
   "id": "d4d29dea",
   "metadata": {},
   "source": [
    "найдем так как матрицы квадратные BA:<br>\n",
    "\n",
    "$$\\begin{pmatrix}\n",
    "4 & -1\\\\ \n",
    "0 & 5\n",
    "\\end{pmatrix}\n",
    "\\cdot \\begin{pmatrix}\n",
    "1 & -2\\\\ \n",
    "3 & 0\n",
    "\\end{pmatrix}\n",
    "= \n",
    "\\begin{pmatrix}\n",
    "1 & -8\\\\ \n",
    "15 & 0\n",
    "\\end{pmatrix}\n",
    "$$"
   ]
  },
  {
   "cell_type": "code",
   "execution_count": 3,
   "id": "a9f16c51",
   "metadata": {},
   "outputs": [
    {
     "data": {
      "text/plain": [
       "array([[ 1, -8],\n",
       "       [15,  0]])"
      ]
     },
     "execution_count": 3,
     "metadata": {},
     "output_type": "execute_result"
    }
   ],
   "source": [
    "b@a"
   ]
  },
  {
   "cell_type": "markdown",
   "id": "9185c0db",
   "metadata": {},
   "source": [
    "__3.__ Из закономерностей сложения и умножения матриц на число можно сделать вывод, что матрицы одного размера образуют линейное пространство. Вычислите линейную комбинацию $3\\cdot A - 2 \\cdot B + 4 \\cdot C$ для матриц \n",
    "$$\n",
    "A = \\begin {pmatrix}\n",
    "1 & 7\\\\\n",
    "3 & -6\n",
    "\\end {pmatrix}, \n",
    "B = \\begin {pmatrix}\n",
    "0 & 5\\\\\n",
    "2 & -1\n",
    "\\end {pmatrix}, \n",
    "C = \\begin {pmatrix}\n",
    "2 & -4\\\\\n",
    "1 & 1\n",
    "\\end {pmatrix}.\n",
    "$$"
   ]
  },
  {
   "cell_type": "markdown",
   "id": "6ffb42ac",
   "metadata": {},
   "source": [
    "__Решение:__<br>\n",
    "$$\n",
    "3 \\cdot\n",
    "\\begin {pmatrix}\n",
    "1 & 7\\\\\n",
    "3 & -6\n",
    "\\end {pmatrix}\n",
    "- 2 \\cdot\n",
    "\\begin {pmatrix}\n",
    "0 & 5\\\\\n",
    "2 & -1\n",
    "\\end {pmatrix}\n",
    "+ 4 \\cdot\n",
    "\\begin {pmatrix}\n",
    "2 & -4\\\\\n",
    "1 & 1\n",
    "\\end {pmatrix} = \n",
    "\\begin {pmatrix}\n",
    "3 & 21\\\\\n",
    "9 & -18\n",
    "\\end {pmatrix}\n",
    "+ \n",
    "\\begin {pmatrix}\n",
    "0 & -10\\\\\n",
    "-4 & 2\n",
    "\\end {pmatrix}\n",
    "+ \n",
    "\\begin {pmatrix}\n",
    "8 & -16\\\\\n",
    "4 & 4\n",
    "\\end {pmatrix} \n",
    "=\n",
    "\\begin {pmatrix}\n",
    "11 & -5\\\\\n",
    "9 & -12\n",
    "\\end {pmatrix}$$"
   ]
  },
  {
   "cell_type": "code",
   "execution_count": 4,
   "id": "a9c03141",
   "metadata": {},
   "outputs": [
    {
     "data": {
      "text/plain": [
       "array([[ 11,  -5],\n",
       "       [  9, -12]])"
      ]
     },
     "execution_count": 4,
     "metadata": {},
     "output_type": "execute_result"
    }
   ],
   "source": [
    "a = np.array([[1, 7], [3, -6]])\n",
    "b = np.array([[0, 5], [2, -1]])\n",
    "c = np.array([[2, -4], [1, 1]])\n",
    "3 * a + (-2) * b + 4 * c"
   ]
  },
  {
   "cell_type": "markdown",
   "id": "5fed4efb",
   "metadata": {},
   "source": [
    "__4.__ Дана матрица $\n",
    "A = \\begin {pmatrix}\n",
    "4 & 1\\\\\n",
    "5 & -2\\\\\n",
    "2 & 3\n",
    "\\end {pmatrix}$. \n",
    "Вычислить $A \\cdot A^T$ и $A^T \\cdot A$\n"
   ]
  },
  {
   "cell_type": "markdown",
   "id": "e994df7d",
   "metadata": {},
   "source": [
    "__Решение__<br>\n",
    "$A^T = \\begin {pmatrix}\n",
    "4 & 5 & 2\\\\\n",
    "1 & -2 & 3\n",
    "\\end {pmatrix}$<br>\n",
    "$A \\cdot A^T = \n",
    "\\begin {pmatrix}\n",
    "4 & 1\\\\\n",
    "5 & -2\\\\\n",
    "2 & 3\n",
    "\\end {pmatrix}\n",
    "\\cdot\n",
    "\\begin {pmatrix}\n",
    "4 & 5 & 2\\\\\n",
    "1 & -2 & 3\n",
    "\\end {pmatrix}\n",
    "=\n",
    "\\begin {pmatrix}\n",
    "17 & 18 & 11\\\\\n",
    "18 & 29 & 4\\\\\n",
    "11 & 4 & 13\n",
    "\\end {pmatrix}$<br>\n",
    "\n",
    "$A^T \\cdot A = \n",
    "\\begin {pmatrix}\n",
    "4 & 5 & 2\\\\\n",
    "1 & -2 & 3\n",
    "\\end {pmatrix}\n",
    "\\cdot\n",
    "\\begin {pmatrix}\n",
    "4 & 1\\\\\n",
    "5 & -2\\\\\n",
    "2 & 3\n",
    "\\end {pmatrix}\n",
    "=\n",
    "\\begin {pmatrix}\n",
    "45 & 0\\\\\n",
    "0 & 14\n",
    "\\end {pmatrix}$<br>"
   ]
  },
  {
   "cell_type": "code",
   "execution_count": 5,
   "id": "a7c9bb07",
   "metadata": {},
   "outputs": [
    {
     "data": {
      "text/plain": [
       "array([[ 4,  5,  2],\n",
       "       [ 1, -2,  3]])"
      ]
     },
     "execution_count": 5,
     "metadata": {},
     "output_type": "execute_result"
    }
   ],
   "source": [
    "A = np.array([[4, 1], [5, -2], [2, 3]])\n",
    "A.T"
   ]
  },
  {
   "cell_type": "code",
   "execution_count": 6,
   "id": "fae3fc75",
   "metadata": {},
   "outputs": [
    {
     "data": {
      "text/plain": [
       "array([[17, 18, 11],\n",
       "       [18, 29,  4],\n",
       "       [11,  4, 13]])"
      ]
     },
     "execution_count": 6,
     "metadata": {},
     "output_type": "execute_result"
    }
   ],
   "source": [
    "A @ A.T"
   ]
  },
  {
   "cell_type": "code",
   "execution_count": 7,
   "id": "5464e8e4",
   "metadata": {},
   "outputs": [
    {
     "data": {
      "text/plain": [
       "array([[45,  0],\n",
       "       [ 0, 14]])"
      ]
     },
     "execution_count": 7,
     "metadata": {},
     "output_type": "execute_result"
    }
   ],
   "source": [
    "A.T @ A"
   ]
  },
  {
   "cell_type": "markdown",
   "id": "8331b91e",
   "metadata": {},
   "source": [
    "__5.__ Напишите на Python функцию для перемножения двух произвольных матриц, не используя NumPy."
   ]
  },
  {
   "cell_type": "code",
   "execution_count": 8,
   "id": "44390d3c",
   "metadata": {},
   "outputs": [
    {
     "name": "stdout",
     "output_type": "stream",
     "text": [
      "1 2 3\n",
      "4 5 6\n",
      "7 8 9\n",
      "\n",
      "10 20 30\n",
      "40 50 60\n",
      "70 80 90\n",
      "\n",
      "None\n",
      "300 360 420\n",
      "660 810 960\n",
      "1020 1260 1500\n",
      "\n",
      "17 18 11\n",
      "18 29 4\n",
      "11 4 13\n",
      "\n",
      "45 0\n",
      "0 14\n",
      "\n"
     ]
    }
   ],
   "source": [
    "\"\"\"Класс для операций сложения и умножения матриц\"\"\"\n",
    "class Matrix:\n",
    "    def __init__(self, matrix):\n",
    "        self.matrix= matrix\n",
    "        \n",
    "    def __str__(self):\n",
    "        return ','.join(map(str, self.matrix)).replace(']', '\\n').replace('[', '').replace(',', '')\n",
    "    \n",
    "    def __add__(self, other):\n",
    "        if len(self.matrix) == len(other.matrix):\n",
    "            for row1, row2 in zip(self.matrix, other.matrix):\n",
    "                if len(row1) != len(row2):\n",
    "                    return f'Количество столбцов не равно, эти матрицы нельзя сложить'\n",
    "            result = [[a + b for a, b in zip(row1, row2)] for row1, row2 in zip(self.matrix, other.matrix)]\n",
    "        else:\n",
    "            return f'Количество строк не равно, эти матрицы нельзя сложить'\n",
    "\n",
    "    def __mul__(self, other):\n",
    "        result = []\n",
    "        try:\n",
    "            for row in self.matrix:\n",
    "                row_result = []\n",
    "                for i in range(len(other.matrix[0])):\n",
    "                    num = 0\n",
    "                    for idx, el in enumerate(row):\n",
    "                        num += (el * other.matrix[idx][i])\n",
    "                    row_result.append(num)\n",
    "                result.append(row_result)\n",
    "            return ','.join(map(str, result)).replace(']', '\\n').replace('[', '').replace(',', '')\n",
    "        except:\n",
    "            return f'Умножение матриц данной размерности невозможно'\n",
    "        \n",
    "m_1 = Matrix([[1, 2, 3], [4, 5, 6], [7, 8, 9]])\n",
    "m_2 = Matrix([[10, 20, 30], [40, 50, 60], [70, 80, 90]])\n",
    "\n",
    "print(m_1)\n",
    "print(m_2)\n",
    "print(m_1 + m_2)\n",
    "\n",
    "m_3 = Matrix([[4, 1], [5, -2], [2, 3]])\n",
    "m_4 = Matrix([[ 4, 5, 2], [ 1, -2, 3]])\n",
    "\n",
    "print(m_1 * m_2)\n",
    "print(m_3 * m_4)\n",
    "print(m_4 * m_3)"
   ]
  },
  {
   "cell_type": "code",
   "execution_count": 9,
   "id": "100a89fd",
   "metadata": {},
   "outputs": [
    {
     "data": {
      "text/plain": [
       "array([[ 300,  360,  420],\n",
       "       [ 660,  810,  960],\n",
       "       [1020, 1260, 1500]])"
      ]
     },
     "execution_count": 9,
     "metadata": {},
     "output_type": "execute_result"
    }
   ],
   "source": [
    "#проверка работы класса\n",
    "a = np.array([[1, 2, 3], [4, 5, 6], [7, 8, 9]])\n",
    "b = np.array([[10, 20, 30], [40, 50, 60], [70, 80, 90]])\n",
    "a @ b"
   ]
  },
  {
   "cell_type": "code",
   "execution_count": 10,
   "id": "bda7a96d",
   "metadata": {},
   "outputs": [
    {
     "data": {
      "text/plain": [
       "array([[17, 18, 11],\n",
       "       [18, 29,  4],\n",
       "       [11,  4, 13]])"
      ]
     },
     "execution_count": 10,
     "metadata": {},
     "output_type": "execute_result"
    }
   ],
   "source": [
    "A @ A.T"
   ]
  },
  {
   "cell_type": "code",
   "execution_count": 11,
   "id": "49018a2f",
   "metadata": {},
   "outputs": [
    {
     "data": {
      "text/plain": [
       "array([[45,  0],\n",
       "       [ 0, 14]])"
      ]
     },
     "execution_count": 11,
     "metadata": {},
     "output_type": "execute_result"
    }
   ],
   "source": [
    "A.T @ A"
   ]
  },
  {
   "cell_type": "markdown",
   "id": "fbda6a96",
   "metadata": {},
   "source": [
    "__6.__ Вычислить определитель<br>\n",
    "<br>a)\n",
    "$$\\begin {vmatrix}\n",
    "{sin(x)} & {-cos(x)}\\\\\n",
    "{cos(x)} & {sin(x)}\n",
    "\\end {vmatrix}$$\n",
    "<br>б)\n",
    "$$\\begin {vmatrix}\n",
    "4 & 2 & 3\\\\\n",
    "0 & 5 & 1\\\\\n",
    "0 & 0 & 9\n",
    "\\end {vmatrix}$$\n",
    "<br>в) \n",
    "$$\\begin {vmatrix}\n",
    "1 & 2 & 3\\\\\n",
    "4 & 5 & 6\\\\\n",
    "7 & 8 & 9\n",
    "\\end {vmatrix}$$"
   ]
  },
  {
   "cell_type": "markdown",
   "id": "824cdab9",
   "metadata": {},
   "source": [
    "__Решение__<br>\n",
    "<br>а) \n",
    "$$\\begin {vmatrix}\n",
    "{sin(x)} & {-cos(x)}\\\\\n",
    "{cos(x)} & {sin(x)}\n",
    "\\end {vmatrix}\n",
    "= {sin}^2 x + {cos}^2 x = 1$$\n",
    "б)\n",
    "$$\\begin {vmatrix}\n",
    "4 & 2 & 3\\\\\n",
    "0 & 5 & 1\\\\\n",
    "0 & 0 & 9\n",
    "\\end {vmatrix}\n",
    "= 4 \\cdot (5 \\cdot 9 - 1 \\cdot 0) - \n",
    "2 \\cdot (0 \\cdot 9 - 1 \\cdot 0) +\n",
    "3 \\cdot (0 \\cdot 0 - 5 \\cdot 0) = 180\n",
    "$$"
   ]
  },
  {
   "cell_type": "code",
   "execution_count": 12,
   "id": "6757f289",
   "metadata": {},
   "outputs": [
    {
     "data": {
      "text/plain": [
       "180.0"
      ]
     },
     "execution_count": 12,
     "metadata": {},
     "output_type": "execute_result"
    }
   ],
   "source": [
    "b = np.array([[4, 2, 3], [0, 5, 1], [0, 0, 9]])\n",
    "np.linalg.det(b)"
   ]
  },
  {
   "cell_type": "markdown",
   "id": "24f27858",
   "metadata": {},
   "source": [
    "в)\n",
    "$$\\begin {vmatrix}\n",
    "1 & 2 & 3\\\\\n",
    "4 & 5 & 6\\\\\n",
    "7 & 8 & 9\n",
    "\\end {vmatrix}\n",
    "= 1 \\cdot (5 \\cdot 9 - 6 \\cdot 8) - \n",
    "2 \\cdot (4 \\cdot 9 - 7 \\cdot 6) +\n",
    "3 \\cdot (4 \\cdot 8 - 5 \\cdot 7) = 0\n",
    "$$"
   ]
  },
  {
   "cell_type": "code",
   "execution_count": 13,
   "id": "bda422ce",
   "metadata": {},
   "outputs": [
    {
     "data": {
      "text/plain": [
       "-0.0"
      ]
     },
     "execution_count": 13,
     "metadata": {},
     "output_type": "execute_result"
    }
   ],
   "source": [
    "c = np.array([[1, 2, 3], [4, 5, 6], [7, 8, 9]])\n",
    "round(np.linalg.det(c), 2)"
   ]
  },
  {
   "cell_type": "markdown",
   "id": "fe3f3a9c",
   "metadata": {},
   "source": [
    "__7.__ Определитель матрицы А равен 4. Найдите:<br>\n",
    "a) det($A^2$);<br>\n",
    "б) det($A^T$);<br>\n",
    "в) det($2 \\cdot A$)."
   ]
  },
  {
   "cell_type": "markdown",
   "id": "5aaf44b6",
   "metadata": {},
   "source": [
    "__Решение__<br>\n",
    "a) det($A^2$);<br>\n",
    "Воспользуемся правилом для двух квадратных матриц одинакогого размера:\n",
    "$$ det(A \\cdot B) = det A \\cdot det B.$$\n",
    "$det(A^2) = 4 \\cdot 4 = 16;$<br> \n",
    "б) det($A^T$);<br>\n",
    "Воспользуемся правилом - определитель транспортированной матрицы равен определителю исходной:\n",
    "$$det A^T = det A $$\n",
    "$$det A^T = 4$$\n",
    "в) det($2 \\cdot A$)<br>\n",
    "Воспользуемся правилом - умножение строки  или столбца матрицы на число $\\lambda$ приведет к умножению определителя матрицы на то же число. <br>\n",
    "Таким образом, если каждая строка увеличится в 2 раза, определитель всей матрицы увеличится в $2^n$ раз, где n - число строк (столбцов).\n",
    "$$det(2 \\cdot A) = 2^n \\cdot 4 = 2^{n+2}$$"
   ]
  },
  {
   "cell_type": "markdown",
   "id": "28e27259",
   "metadata": {},
   "source": [
    "__8.__ Докажите что матрица\n",
    "$$\\begin{pmatrix}\n",
    "-2 & 7 & -3\\\\\n",
    "4 & -14 & 6\\\\\n",
    "-3 & 7 & 13\n",
    "\\end{pmatrix}$$\n",
    "вырожденная."
   ]
  },
  {
   "cell_type": "markdown",
   "id": "c95faf19",
   "metadata": {},
   "source": [
    "__Решение__<br>\n",
    "Матрица является вырожденной, если ее определитель равен нулю.<br>\n",
    "Если две строки (столбца) матрицы линейно зависимы, то определитель этой матрицы равен нулю.<br>\n",
    "__Так как вторая строка матрицы равна первой строке, умноженной на -2 то эти две строки линейно зависимы соответственно определитель матрицы равен нулю, что и означает, что матрица вырожденная__<br>\n",
    "$\\begin{vmatrix}\n",
    "-2 & 7 & -3\\\\\n",
    "4 & -14 & 6\\\\\n",
    "-3 & 7 & 13\n",
    "    \\end{vmatrix} = -2 \\cdot (-14 \\cdot 13 - 6 \\cdot 7) - 7(4 \\cdot 13 + 6 \\cdot 3) - 3(4 \\cdot 7 - 14 \\cdot 3) = 448 - 490 + 42 = 0$"
   ]
  },
  {
   "cell_type": "code",
   "execution_count": 14,
   "id": "8112409c",
   "metadata": {},
   "outputs": [
    {
     "data": {
      "text/plain": [
       "0.0"
      ]
     },
     "execution_count": 14,
     "metadata": {},
     "output_type": "execute_result"
    }
   ],
   "source": [
    "c = np.array([[-2, 7, -3], [4, -14, 6],[-3, 7, 13]])\n",
    "np.linalg.det(c)"
   ]
  },
  {
   "cell_type": "markdown",
   "id": "3ac2c881",
   "metadata": {},
   "source": [
    "__4.__ Найдите ранг матрицы:<br>\n",
    "<br>а) $\\begin {pmatrix}\n",
    "1 & 2 & 3\\\\\n",
    "1 & 1 & 1\\\\\n",
    "2 & 3 & 4\n",
    "\\end{pmatrix}$<br>\n",
    "<br>б) $\\begin {pmatrix}\n",
    "0 & 0 & 2 & 1\\\\\n",
    "0 & 0 & 2 & 2\\\\\n",
    "0 & 0 & 4 & 3\\\\\n",
    "2 & 3 & 5 & 6\n",
    "\\end{pmatrix}$"
   ]
  },
  {
   "cell_type": "markdown",
   "id": "258451c2",
   "metadata": {},
   "source": [
    "__Решение__<br>\n",
    "<br>а) $\\begin {pmatrix}\n",
    "1 & 2 & 3\\\\\n",
    "1 & 1 & 1\\\\\n",
    "2 & 3 & 4\n",
    "\\end{pmatrix}$<br>\n",
    "Отнимем из второй строки первую:<br>\n",
    "$\\begin {pmatrix}\n",
    "1 & 2 & 3\\\\\n",
    "0 & -1 & -2\\\\\n",
    "2 & 3 & 4\n",
    "\\end{pmatrix}$<br>\n",
    "Отнимем из третьей строки первую, уммноженную на 2:<br>\n",
    "$\\begin {pmatrix}\n",
    "1 & 2 & 3\\\\\n",
    "0 & -1 & -2\\\\\n",
    "0 & -1 & -2\n",
    "\\end{pmatrix}$<br>\n",
    "Так как вторая и третья строка равны, удалим третью строку:<br>\n",
    "$\\begin {pmatrix}\n",
    "1 & 2 & 3\\\\\n",
    "0 & -1 & -2\n",
    "\\end{pmatrix}$<br>\n",
    "Получилась верхне-треугольная матрица, таким образом, ранг матрицы равен 2."
   ]
  },
  {
   "cell_type": "code",
   "execution_count": 15,
   "id": "166aeea1",
   "metadata": {},
   "outputs": [
    {
     "data": {
      "text/plain": [
       "2"
      ]
     },
     "execution_count": 15,
     "metadata": {},
     "output_type": "execute_result"
    }
   ],
   "source": [
    "a = np.array([[1, 2, 3], [1, 1, 1],[2, 3, 4]])\n",
    "np.linalg.matrix_rank(a)"
   ]
  },
  {
   "cell_type": "markdown",
   "id": "f46c0900",
   "metadata": {},
   "source": [
    "<br>б) $\\begin {pmatrix}\n",
    "0 & 0 & 2 & 1\\\\\n",
    "0 & 0 & 2 & 2\\\\\n",
    "0 & 0 & 4 & 3\\\\\n",
    "2 & 3 & 5 & 6\n",
    "\\end{pmatrix}$<br>\n",
    "Переместим последную строку наверх на место первой<br>\n",
    "$\\begin {pmatrix}\n",
    "2 & 3 & 5 & 6\\\\\n",
    "0 & 0 & 2 & 1\\\\\n",
    "0 & 0 & 2 & 2\\\\\n",
    "0 & 0 & 4 & 3\n",
    "\\end{pmatrix}$<br>\n",
    "Из четвертой строки отнимем вторую умноженную на 2<br>\n",
    "$\\begin {pmatrix}\n",
    "2 & 3 & 5 & 6\\\\\n",
    "0 & 0 & 2 & 1\\\\\n",
    "0 & 0 & 2 & 2\\\\\n",
    "0 & 0 & 0 & 1\n",
    "\\end{pmatrix}$<br>\n",
    "Получилась верхне треугольная матрица.<br>\n",
    "Определитель матрицы треугольного вида равен произведению элементов, стоящих на её главной диагонали:<br>\n",
    "В нашем случае произведение и определитель равны нулю так как во второй строке стоит ноль на главной диагонали.<br>\n",
    "Если убрать вторую строку то ранг матрицы получается равен 3."
   ]
  },
  {
   "cell_type": "code",
   "execution_count": 16,
   "id": "3e52eb3f",
   "metadata": {},
   "outputs": [
    {
     "data": {
      "text/plain": [
       "3"
      ]
     },
     "execution_count": 16,
     "metadata": {},
     "output_type": "execute_result"
    }
   ],
   "source": [
    "#проверка\n",
    "a = np.array([[0, 0, 2, 1], [0, 0, 2, 2], [0, 0, 4, 3], [2, 3, 5, 6]])\n",
    "np.linalg.matrix_rank(a)"
   ]
  }
 ],
 "metadata": {
  "kernelspec": {
   "display_name": "Python 3 (ipykernel)",
   "language": "python",
   "name": "python3"
  },
  "language_info": {
   "codemirror_mode": {
    "name": "ipython",
    "version": 3
   },
   "file_extension": ".py",
   "mimetype": "text/x-python",
   "name": "python",
   "nbconvert_exporter": "python",
   "pygments_lexer": "ipython3",
   "version": "3.9.7"
  }
 },
 "nbformat": 4,
 "nbformat_minor": 5
}
