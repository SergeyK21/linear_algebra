{
 "cells": [
  {
   "cell_type": "markdown",
   "id": "65d27bf7",
   "metadata": {},
   "source": [
    "## Практическое задание"
   ]
  },
  {
   "cell_type": "markdown",
   "id": "d86bb8e7",
   "metadata": {},
   "source": [
    "__1.__ Исследовать на линейную зависимость:\n",
    "\n",
    "$$f_{1}(x)=e^{x}, f_{2}(x)=1, f_{3}(x)=x+1, f_{4}(x)=x-e^{x}.$$"
   ]
  },
  {
   "cell_type": "markdown",
   "id": "859c65b0",
   "metadata": {},
   "source": [
    "Достаточное условие линейной зависимости существует нетривиальная :\n",
    "линейная комбинация векторов это аналогично возможности выразить ;\n",
    "один из векторов через линейную комбинацию других\n",
    "$$f_{4}(x)=f_{3}(x) - f_{2}(x) -  f_{1}(x).$$\n",
    "Поскольку мы смогли выразить $f_{4}(x)$ через нетривиальную линейную\n",
    "комбинацию остальных можно сделать вывод что вектора линейно\n",
    "зависимы\n"
   ]
  },
  {
   "cell_type": "markdown",
   "id": "36c7985f",
   "metadata": {},
   "source": [
    "__2.__ Исследовать на линейную зависимость:\n",
    "$$f_{1}(x)=2, f_{2}(x)=x, f_{3}(x)=x^{2}, f_{4}(x)=(x+1)^{2}$$"
   ]
  },
  {
   "cell_type": "markdown",
   "id": "c2829fc9",
   "metadata": {},
   "source": [
    "$$f_{4}(x)=f_{3}(x) + 2f_{2}(x) +  \\frac{1}{2}f_{1}(x).$$\n",
    "\n",
    "$$(x+1)^2 = x^2 + 2x + 1$$\n",
    "Вектора линейно зависимы"
   ]
  },
  {
   "cell_type": "markdown",
   "id": "9003b98c",
   "metadata": {},
   "source": [
    "__3.__ Найти координаты вектора $x = (2, 3, 5)\\in \\mathbb{R}^{3}$ в базисе $b_{1}=(0, 0, 10)$, $b_{2}=(2, 0, 0)$, $b_{3}=(0, 1, 0)$.\n"
   ]
  },
  {
   "cell_type": "markdown",
   "id": "109532fb",
   "metadata": {},
   "source": [
    "Разложение вектора в базисе выражается формулой $\\sum_{k=1}^n x_n b_n $, где $x_n$ - координаты вектора x в базисе из векторов $b_n$. Найдем разложение\n",
    "вектора x :\n",
    "$$x= \\frac{1}{2}b_1+b_2+3b_3$$\n",
    "Ответ: $(\\frac{1}{2}, 1, 3)$"
   ]
  },
  {
   "cell_type": "markdown",
   "id": "58273710",
   "metadata": {},
   "source": [
    "__4.__ Найти координаты вектора $3x^{2}-2x+2\\in\\mathbb{R}^{3}[x]$:\n",
    "\n",
    "а) в базисе $1$, $x$, $x^{2}$;\n",
    "\n",
    "б) в базисе $x^{2}$, $x-1$, $1$."
   ]
  },
  {
   "cell_type": "markdown",
   "id": "00c7809f",
   "metadata": {},
   "source": [
    "a) Аналогично предыдущему заданию восстановим разложение по\n",
    "формуле:"
   ]
  },
  {
   "cell_type": "markdown",
   "id": "8cfb06ce",
   "metadata": {},
   "source": [
    "$$x = 2(1)-2(x) + 3(x^2)$$\n",
    "$$(2,-2,3)$$"
   ]
  },
  {
   "cell_type": "markdown",
   "id": "ced996e4",
   "metadata": {},
   "source": [
    "b) перепишем вектор в виде\n",
    "$$3x^2 - 2x + 4-2$$\n",
    "$$3x^2 - 2(x-1) + 0$$\n",
    "Имеем координаты (3, -2, 0)"
   ]
  },
  {
   "cell_type": "markdown",
   "id": "098372cf",
   "metadata": {},
   "source": [
    "__5.__ Установить, является ли линейным подпространством:\n",
    "\n",
    "а) совокупность всех векторов трехмерного пространства, у которых по крайней мере одна из первых двух координат равна нулю;\n",
    "    \n",
    "б) все векторы, являющиеся линейными комбинациями данных векторов $\\{u_{1}, u_{2}, \\ldots, u_{n}\\}$."
   ]
  },
  {
   "cell_type": "markdown",
   "id": "314bd00f",
   "metadata": {},
   "source": [
    "а) попробуем сложить два вектора и В результате получим ) (1, 0, 1) (0, 1, 1). вектор Условие принадлежности к подпространству не (1, 1, 2). выполняется занчит эта совокупность не является подпространством "
   ]
  },
  {
   "cell_type": "markdown",
   "id": "5fe79c92",
   "metadata": {},
   "source": [
    "б) \n",
    "$$ a = \\lambda_1 u_1 + \\lambda_2 u_2 + ... + \\lambda_n u_n$$\n",
    "$$ b = \\mu_1 u_1 + \\mu_2 u_2 + ... + \\mu_n u_n$$\n",
    "$$(a+b) =(\\lambda_1 + \\mu_1)u_1 + (\\lambda_2 + \\mu_2)u_2 + ... + (\\lambda_n + \\mu_n)u_n $$\n",
    "$$ab =\\lambda_1 \\mu_1u_1 + \\lambda_2  \\mu_2u_2 + ... + \\lambda_n  \\mu_nu_n $$\n",
    "$$\\beta b =\\beta \\mu_1u_1 + \\beta  \\mu_2u_2 + ... + \\beta  \\mu_nu_n $$\n",
    "сумма и умножение на константу также являются линейными комбинациями данных векторов, оба условия выполняются значит совокупность является линейным подпространством\n"
   ]
  },
  {
   "cell_type": "markdown",
   "id": "520e364b",
   "metadata": {},
   "source": [
    "__6.__ Найти скалярное произведение векторов $x, y \\in \\mathbb{R}$:<br>\n",
    "а) $x=(0,-3, 6),~y=(-4, 7, 9);$<br>\n",
    "б) $x=(7, -4, 0, 1),~y=(-3, 1, 11, 2).$"
   ]
  },
  {
   "cell_type": "code",
   "execution_count": 1,
   "id": "ee8dbea7",
   "metadata": {},
   "outputs": [
    {
     "name": "stdout",
     "output_type": "stream",
     "text": [
      "a) 33\n",
      "б) -23\n"
     ]
    }
   ],
   "source": [
    "def vect_scalar(a, b):\n",
    "    result = 0\n",
    "    for x, y in zip(a, b):\n",
    "        result += x * y\n",
    "    return result\n",
    "x = [0, -3, 6]\n",
    "y = [-4, 7, 9]\n",
    "print(f'a) {vect_scalar(x, y)}')\n",
    "x = [7, -4, 0, 1]\n",
    "y = [-3, 1, 11, 2]\n",
    "print(f'б) {vect_scalar(x, y)}')"
   ]
  },
  {
   "cell_type": "markdown",
   "id": "b59edb2f",
   "metadata": {},
   "source": [
    "__7.__ Найти нормы векторов $(4, 2, 4)$ и $(12, 3, 4)$ и угол между ними."
   ]
  },
  {
   "cell_type": "code",
   "execution_count": 2,
   "id": "d347a2aa",
   "metadata": {},
   "outputs": [
    {
     "name": "stdout",
     "output_type": "stream",
     "text": [
      "norm(x) = 6.0, norm(y) = 13.0, phi = 26.176952171666542 degrees\n"
     ]
    },
    {
     "data": {
      "text/plain": [
       "(6.0, 13.0, 26.176952171666557)"
      ]
     },
     "execution_count": 2,
     "metadata": {},
     "output_type": "execute_result"
    }
   ],
   "source": [
    "import numpy as np\n",
    "import math\n",
    "x = np.array([4, 2, 4])\n",
    "y = np.array([12, 3, 4])\n",
    "norm_x = np.sqrt(vect_scalar(x, x))\n",
    "norm_y = np.sqrt(vect_scalar(y, y))\n",
    "cos_phi = vect_scalar(x, y) / (norm_x * norm_y)\n",
    "print(f'norm(x) = {norm_x}, norm(y) = {norm_y}, phi = {math.acos(cos_phi)*(180/math.pi)} degrees') \n",
    "\n",
    "from numpy.linalg import norm\n",
    "norm(x), norm(y), math.acos(x.dot(y)/norm(x)/norm(y))*(180/math.pi)"
   ]
  },
  {
   "cell_type": "markdown",
   "id": "e49478bc",
   "metadata": {},
   "source": [
    "__8.__ Будет ли линейное пространство евклидовым, если за скалярное произведение принять:<br>\n",
    "а) произведение длин векторов;<br>\n",
    "б) утроенное обычное скалярное произведение векторов?"
   ]
  },
  {
   "cell_type": "code",
   "execution_count": 3,
   "id": "2408e145",
   "metadata": {},
   "outputs": [
    {
     "name": "stdout",
     "output_type": "stream",
     "text": [
      "CASE A:\n",
      "True\n",
      "False\n",
      "False\n",
      "True True\n",
      "------------\n",
      "CASE B\n",
      "True\n",
      "True\n",
      "True\n",
      "True True\n"
     ]
    }
   ],
   "source": [
    "# a)\n",
    "def vect_len_mul(a, b):\n",
    "    return norm(a) * norm(b)\n",
    "# б)\n",
    "def triple_scalar(a, b):\n",
    "    return 3*a.dot(b)\n",
    "#проверка аксиом\n",
    "def check_axioms(func):\n",
    "    x = np.array([1, 2, 4])\n",
    "    y = np.array([4, 5, 6])\n",
    "    x1 = np.array([7, 8, 9])\n",
    "    x2 = np.array([2, 5, 11])\n",
    "    Lambda = 3\n",
    "    #1 (x ,y) = (y, x)\n",
    "    print(func(x, y) == func(y, x))\n",
    "    #2 (lambda*x, y) = lambda(x, y)\n",
    "    print(func(Lambda*x, y) == Lambda*func(x, y))\n",
    "    #3 (x1+x2, y) = (x1, y) + (x2)\n",
    "    print(func(x1+x2, y) == (func(x1, y) + func(x2, y)))\n",
    "    #4 (x, x) >= 0, (x, x) = 0 -> x=0\n",
    "    nul = np.array([0, 0, 0])\n",
    "    print(func(x, x) >= 0, func(nul, nul) == 0)\n",
    "#a)\n",
    "print(\"CASE A:\")\n",
    "check_axioms(vect_len_mul)\n",
    "print('------------')\n",
    "print('CASE B')\n",
    "check_axioms(triple_scalar)\n"
   ]
  },
  {
   "cell_type": "markdown",
   "id": "e4bfcf47",
   "metadata": {},
   "source": [
    "__9.__ Какие из нижеперечисленных векторов образуют ортонормированный базис в линейном пространстве $\\mathbb{R}^{3}$:<br>\n",
    "а) $(1,0,0),(0,0,1);$ <br>\n",
    "б) $(1/\\sqrt{2},-1/\\sqrt{2},0),(1/\\sqrt{2},1/\\sqrt{2},0), (0,0,1);$<br>\n",
    "в) $(1/2, -1/2, 0), (0, 1/2, 1/2), (0,0,1);$<br>\n",
    "г) $(1,0,0),(0,1,0),(0,0,1)?$"
   ]
  },
  {
   "cell_type": "markdown",
   "id": "bc7cc45d",
   "metadata": {},
   "source": [
    "Cлучай г) является стандартным ОНБ в пространстве $R^3$.<br>\n",
    "В случае а) не хватает одного вектора для образования трехмерного базиса.<br>\n",
    "Проверим базисы б) и в) на выполнение свойств ОНБ вектора должны быть попарно перпендикулярными (скалярное произведение векторов попарно равно 0), норма каждого вектора должна быть равна 1."
   ]
  },
  {
   "cell_type": "code",
   "execution_count": 4,
   "id": "401d6d45",
   "metadata": {},
   "outputs": [
    {
     "data": {
      "text/plain": [
       "(0.0, 0.0, 0.0, 0.9999999999999999, 0.9999999999999999, 1.0)"
      ]
     },
     "execution_count": 4,
     "metadata": {},
     "output_type": "execute_result"
    }
   ],
   "source": [
    "# б)\n",
    "two_sqrt = 1/np.sqrt(2)\n",
    "b1 = np.array([two_sqrt, -two_sqrt, 0])\n",
    "b2 = np.array([two_sqrt, two_sqrt, 0])\n",
    "b3 = np.array([0, 0, 1])\n",
    "b1.dot(b2), b1.dot(b3), b2.dot(b3), norm(b1), norm(b2), norm(b3)"
   ]
  },
  {
   "cell_type": "markdown",
   "id": "bd72b039",
   "metadata": {},
   "source": [
    "в случае б) базис ортонормирован"
   ]
  },
  {
   "cell_type": "code",
   "execution_count": 5,
   "id": "3c3e57e7",
   "metadata": {},
   "outputs": [
    {
     "data": {
      "text/plain": [
       "(-0.25, 0.0, 0.5, 0.7071067811865476, 0.7071067811865476, 1.0)"
      ]
     },
     "execution_count": 5,
     "metadata": {},
     "output_type": "execute_result"
    }
   ],
   "source": [
    "# в)\n",
    "b1 = np.array([0.5, -0.5, 0])\n",
    "b2 = np.array([0, 0.5, 0.5])\n",
    "b3 = np.array([0, 0, 1])\n",
    "b1.dot(b2), b1.dot(b3), b2.dot(b3), norm(b1), norm(b2), norm(b3)"
   ]
  },
  {
   "cell_type": "markdown",
   "id": "27a6bad1",
   "metadata": {},
   "source": [
    "в) не образуют ортонормированный базис"
   ]
  }
 ],
 "metadata": {
  "kernelspec": {
   "display_name": "Python 3 (ipykernel)",
   "language": "python",
   "name": "python3"
  },
  "language_info": {
   "codemirror_mode": {
    "name": "ipython",
    "version": 3
   },
   "file_extension": ".py",
   "mimetype": "text/x-python",
   "name": "python",
   "nbconvert_exporter": "python",
   "pygments_lexer": "ipython3",
   "version": "3.9.7"
  }
 },
 "nbformat": 4,
 "nbformat_minor": 5
}
