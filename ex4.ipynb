{
 "cells": [
  {
   "cell_type": "markdown",
   "id": "3ce2ea2b",
   "metadata": {},
   "source": [
    "__1.__ Решить систему уравнений методом Гаусса:\n",
    "\n",
    "$$\\begin{cases}\n",
    "x_{1}+x_{2}-x_{3}-2x_{4}=0, \\\\\n",
    "2x_{1}+x_{2}-x_{3}+x_{4}=-2, \\\\\n",
    "x_{1}+x_{2}-3x_{3}+x_{4}=4.\n",
    "\\end{cases}$$"
   ]
  },
  {
   "cell_type": "markdown",
   "id": "025b9a66",
   "metadata": {},
   "source": [
    "__Решение__<br>\n",
    "Из трьетего уравнения вычтем первое и из второго первое:\n",
    "$$\\begin{cases}\n",
    "x_{1}+x_{2}-x_{3}-2\\cdot x_{4}=0 \\\\\n",
    "x_{1}+3\\cdot x_{4}=-2 \\\\\n",
    "-2\\cdot x_{1}+3\\cdot x_{4} = 4\n",
    "\\end{cases}$$\n",
    "из второго выразим $x_1=−2−3\\cdot x_4$, из третьего выразим $x_3=2−1.5\\cdot x_4$ подставим в первое, найдем $x_2$:\n",
    "$$−2−3\\cdot x_4+x_2−2+1.5\\cdot x_4 −2\\cdot x_4=0$$\n",
    "$$x_2=4 −3.5\\cdot x_4$$\n",
    "Общее решение выглядит так:\n",
    "$$\\begin{cases}\n",
    "x_1=-2-3\\cdot x_4\\\\\n",
    "x_2=4-3.5\\cdot x_4\\\\\n",
    "x_3=2-1.5\\cdot x_4\n",
    "\\end{cases}$$"
   ]
  },
  {
   "cell_type": "markdown",
   "id": "da15f677",
   "metadata": {},
   "source": [
    "__2.__ Проверить на совместность и выяснить, сколько решений будет иметь система линейных уравнений:\n",
    "\n",
    "   а) $\\begin{cases}\n",
    "3x_{1}-x_{2}+x_{3}=4, \\\\\n",
    "2x_{1}-5x_{2}-3x_{3}=-17, \\\\\n",
    "x_{1}+x_{2}-x_{3}=0;\n",
    "\\end{cases}$\n",
    "    \n",
    "   б) $\\begin{cases}\n",
    "2x_{1}-4x_{2}+6x_{3}=1, \\\\\n",
    "x_{1}-2x_{2}+3x_{3}=-2, \\\\\n",
    "3x_{1}-6x_{2}+9x_{3}=5;\n",
    "\\end{cases}$\n",
    "    \n",
    "   в) $\\begin{cases}\n",
    "x_{1}+2x_{2}+5x_{3}=4, \\\\\n",
    "3x_{1}+x_{2}-8x_{3}=-2. \n",
    "\\end{cases}$"
   ]
  },
  {
   "cell_type": "markdown",
   "id": "ec43e125",
   "metadata": {},
   "source": [
    "__Решение__"
   ]
  },
  {
   "cell_type": "code",
   "execution_count": 1,
   "id": "2bf370c7",
   "metadata": {},
   "outputs": [
    {
     "name": "stdout",
     "output_type": "stream",
     "text": [
      "rank A = 3\n",
      "rank A_extended = 3\n"
     ]
    }
   ],
   "source": [
    "# a)\n",
    "import numpy as np\n",
    "A = np.array([[3, -1, 1], [2, -5, -3], [1, 1, -1]])\n",
    "b = np.array([4, -17, 0])[:, np.newaxis]\n",
    "A_extended = np.hstack((A, b))\n",
    "print(f'rank A = {np.linalg.matrix_rank(A)}')\n",
    "print(f'rank A_extended = {np.linalg.matrix_rank(A_extended)}')"
   ]
  },
  {
   "cell_type": "markdown",
   "id": "b2c15267",
   "metadata": {},
   "source": [
    "число неизвестных система совместна и имеет единственное решение"
   ]
  },
  {
   "cell_type": "code",
   "execution_count": 2,
   "id": "3dd3d3d8",
   "metadata": {},
   "outputs": [
    {
     "name": "stdout",
     "output_type": "stream",
     "text": [
      "rank A = 1\n",
      "rank A_extended = 2\n"
     ]
    }
   ],
   "source": [
    "# б)\n",
    "A = np.array([[2, -4, 6], [1, -2, 3], [3, -6, 9]])\n",
    "b = np.array([1, -2, 5])[:, np.newaxis]\n",
    "A_extended = np.hstack((A, b))\n",
    "print(f'rank A = {np.linalg.matrix_rank(A)}')\n",
    "print(f'rank A_extended = {np.linalg.matrix_rank(A_extended)}')"
   ]
  },
  {
   "cell_type": "markdown",
   "id": "8181b426",
   "metadata": {},
   "source": [
    "Система не совместна и не имеет решений"
   ]
  },
  {
   "cell_type": "code",
   "execution_count": 3,
   "id": "78e73dce",
   "metadata": {},
   "outputs": [
    {
     "name": "stdout",
     "output_type": "stream",
     "text": [
      "rank A = 2\n",
      "rank A_extended = 2\n"
     ]
    }
   ],
   "source": [
    "# в)\n",
    "A = np.array([[1, 2, 5], [3, 1, -8]])\n",
    "b = np.array([4, -2])[:, np.newaxis]\n",
    "A_extended = np.hstack((A, b))\n",
    "print(f'rank A = {np.linalg.matrix_rank(A)}')\n",
    "print(f'rank A_extended = {np.linalg.matrix_rank(A_extended)}')"
   ]
  },
  {
   "cell_type": "markdown",
   "id": "dbf3ce96",
   "metadata": {},
   "source": [
    "ранги матриц равны 2, но число неизвестных 3, система имеет бесконечное количество решений"
   ]
  },
  {
   "cell_type": "markdown",
   "id": "09ff0f1b",
   "metadata": {},
   "source": [
    "__3.__ Проверить на совместность и выяснить, сколько решений будет иметь система линейных уравнений, заданная расширенной матрицей\n",
    "\n",
    "$$\\tilde{A}=\\begin{pmatrix}\n",
    "\\left.\\begin{matrix}\n",
    "1 & 3 & -2 & 4\\\\ \n",
    "0 & 5 & 0 & 1\\\\ \n",
    "0 & 0 & 3 & 0\\\\ \n",
    "0 & 0 & 0 & 2\n",
    "\\end{matrix}\\right|\n",
    "\\begin{matrix}\n",
    "3\\\\ \n",
    "2\\\\\n",
    "4\\\\\n",
    "1\n",
    "\\end{matrix}\n",
    "\\end{pmatrix}.$$"
   ]
  },
  {
   "cell_type": "code",
   "execution_count": 4,
   "id": "94eaa656",
   "metadata": {},
   "outputs": [
    {
     "name": "stdout",
     "output_type": "stream",
     "text": [
      "Система совместна: True\n",
      "Имеет единственное решение: True\n"
     ]
    }
   ],
   "source": [
    "A = np.array([[1, 3, -2, 4], [0, 5, 0, 1], [0, 0, 3, 0], [0, 0, 0,2]])\n",
    "b = np.array([[3], [2], [4], [1]])\n",
    "A_ext = np.hstack((A, b))\n",
    "print(f'Система совместна: {np.linalg.matrix_rank(A) == np.linalg.matrix_rank(A_ext)}')\n",
    "print(f'Имеет единственное решение: {np.linalg.matrix_rank(A) == np.linalg.matrix_rank(A_ext) == 4}')\n"
   ]
  },
  {
   "cell_type": "markdown",
   "id": "b06400be",
   "metadata": {},
   "source": [
    "__4.__ Дана система линейных уравнений, заданная расширенной матрицей\n",
    "\n",
    "$$\\tilde{A}=\\begin{pmatrix}\n",
    "\\left.\\begin{matrix}\n",
    "1 & 2 & 3\\\\ \n",
    "4 & 5 & 6\\\\ \n",
    "7 & 8 & 9\n",
    "\\end{matrix}\\right|\n",
    "\\begin{matrix}\n",
    "a\\\\ \n",
    "b\\\\\n",
    "c\n",
    "\\end{matrix}\n",
    "\\end{pmatrix}.$$\n",
    "\n",
    "Найти соотношение между параметрами $a$, $b$ и $c$, при которых система является несовместной."
   ]
  },
  {
   "cell_type": "markdown",
   "id": "df1ca50c",
   "metadata": {},
   "source": [
    "__Решение__<br>\n",
    "Система будет несовместной когда $rankA < rank\\tilde{A}$. $rankA = 2$. т.к. третья строка является линейной комбинацией первых двух $A_3=2\\cdot A_2-A_1$ преобразуем матрицу. Из третье строки вычтем удвоенную вторую и затем сложим с первой"
   ]
  },
  {
   "cell_type": "code",
   "execution_count": 5,
   "id": "e5184551",
   "metadata": {},
   "outputs": [
    {
     "data": {
      "text/plain": [
       "array([[1, 2, 3],\n",
       "       [4, 5, 6],\n",
       "       [0, 0, 0]])"
      ]
     },
     "execution_count": 5,
     "metadata": {},
     "output_type": "execute_result"
    }
   ],
   "source": [
    "A = np.array([[1, 2, 3], [4, 5, 6], [7, 8, 9]])\n",
    "A[2] = A[2] - 2*A[1] + A[0]\n",
    "A"
   ]
  },
  {
   "cell_type": "markdown",
   "id": "6253c186",
   "metadata": {},
   "source": [
    "Чтобы система была несовместной нужно чтобы после преобразований в расширенной матрице в третьей строке свободных членов был не 0, тоесть $c-2\\cdot b+a\\not= 0$"
   ]
  },
  {
   "cell_type": "markdown",
   "id": "67f47cf4",
   "metadata": {},
   "source": [
    "__5.__ Решить систему уравнений методом Крамера:\n",
    "\n",
    "   а) $\\begin{cases}\n",
    "x_{1}-2x_{2}=1 \\\\\n",
    "3x_{1}-4x_{2}=7\n",
    "\\end{cases}$\n",
    "    \n",
    "   б) $\\begin{cases}\n",
    "2x_{1}-x_{2}+5x_{3}=10 \\\\\n",
    "x_{1}+x_{2}-3x_{3}=-2 \\\\\n",
    "2x_{1}+4x_{2}+x_{3}=1\n",
    "\\end{cases}$"
   ]
  },
  {
   "cell_type": "code",
   "execution_count": 6,
   "id": "df400c49",
   "metadata": {},
   "outputs": [
    {
     "name": "stdout",
     "output_type": "stream",
     "text": [
      "a) [5. 2.]\n",
      "б) [ 2. -1.  1.]\n"
     ]
    }
   ],
   "source": [
    "def kramer(A, b):\n",
    "    assert A.shape[0] == A.shape[1], 'Wrong matrix size!'\n",
    "    det_A = np.linalg.det(A)\n",
    "    result = []\n",
    "    if np.abs(det_A) > 0.000001: #может быть ошибка округления\n",
    "        for i in range(A.shape[0]):\n",
    "            A_i = np.hstack((A[:, :i], b, A[:, i+1:]))\n",
    "            result.append(np.linalg.det(A_i) / det_A)\n",
    "        return np.round(result, 2)\n",
    "    else:\n",
    "        return 'det A is 0'\n",
    "# a)\n",
    "A = np.array([[1, -2], [3, -4]])\n",
    "b = np.array([[1, 7]]).T\n",
    "print(f'a) {kramer(A, b)}')\n",
    "# б)\n",
    "A = np.array([[2, -1, 5], [1, 1, -3], [2, 4, 1]])\n",
    "b = np.array([[10, -2, 1]]).T\n",
    "print(f'б) {kramer(A, b)}')\n"
   ]
  },
  {
   "cell_type": "markdown",
   "id": "4222227a",
   "metadata": {},
   "source": [
    "__6*.__ Найти $L$-матрицу $LU$-разложения для матрицы коэффициентов:\n",
    "\n",
    "   а)$$\\begin{pmatrix}\n",
    "1 & 2 & 4 \\\\ \n",
    "2 & 9 & 12 \\\\ \n",
    "3 & 26 & 30\n",
    "\\end{pmatrix}$$\n",
    "    \n",
    "   б)$$\\begin{pmatrix}\n",
    "1 & 1 & 2 & 4\\\\ \n",
    "2 & 5 & 8 & 9\\\\ \n",
    "3 & 18 & 29 & 18\\\\\n",
    "4 & 22 & 53 & 33\n",
    "\\end{pmatrix}$$"
   ]
  },
  {
   "cell_type": "code",
   "execution_count": 7,
   "id": "12da6f7d",
   "metadata": {},
   "outputs": [
    {
     "name": "stdout",
     "output_type": "stream",
     "text": [
      "a) \n",
      "Матрица U:\n",
      "[[1 2 4]\n",
      " [0 5 4]\n",
      " [0 0 2]]\n",
      "Матрица L:\n",
      "[[1 0 0]\n",
      " [2 1 0]\n",
      " [3 4 1]]\n",
      "Матрица LU == A:\n",
      "[[ 1  2  4]\n",
      " [ 2  9 12]\n",
      " [ 3 26 30]]\n",
      "[[ 1  2  4]\n",
      " [ 2  9 12]\n",
      " [ 3 26 30]]\n",
      "б) \n",
      "Матрица U:\n",
      "[[1 1 2 4]\n",
      " [0 3 4 1]\n",
      " [0 0 3 1]\n",
      " [0 0 0 4]]\n",
      "Матрица L:\n",
      "[[1 0 0 0]\n",
      " [2 1 0 0]\n",
      " [3 5 1 0]\n",
      " [4 6 7 1]]\n",
      "Матрица LU == A:\n",
      "[[ 1  1  2  4]\n",
      " [ 2  5  8  9]\n",
      " [ 3 18 29 18]\n",
      " [ 4 22 53 33]]\n",
      "[[ 1  1  2  4]\n",
      " [ 2  5  8  9]\n",
      " [ 3 18 29 18]\n",
      " [ 4 22 53 33]]\n"
     ]
    }
   ],
   "source": [
    "def LU(A):\n",
    "    assert A.shape[0] == A.shape[1] and A[0][0] !=0 and np.abs(np.linalg.det(A)) > 0.00001, 'Невозможно разложить матрицу'\n",
    "    L = np.zeros_like(A)\n",
    "    U = np.zeros_like(A)\n",
    "    # первая строка U и первый столбец L\n",
    "    U[0] = A[0]\n",
    "    L[:, 0] = A[:, 0] / U[0, 0]\n",
    "    for i in range(A.shape[1]):\n",
    "        for j in range(i, A.shape[1]):\n",
    "            U[0, i] = A[0, i]\n",
    "            L[i, 0] = A[i, 0] / U[0, 0]\n",
    "            u_sum, l_sum = 0, 0\n",
    "            for k in range(i):\n",
    "                u_sum += L[i, k] * U[k, j]\n",
    "                l_sum += L[j, k] * U[k, i]\n",
    "            U[i, j] = A[i, j] - u_sum\n",
    "            L[j, i] = (A[j, i] - l_sum) / U[i, i]\n",
    "    return U, L\n",
    "A = np.array([[1, 2, 4], [2, 9, 12], [3, 26, 30]])\n",
    "U, L = LU(A)\n",
    "print(\"a) \")\n",
    "print(\"Матрица U:\")\n",
    "print(U)\n",
    "print(\"Матрица L:\")\n",
    "print(L)\n",
    "print(\"Матрица LU == A:\")\n",
    "print(L.dot(U))\n",
    "print(A)\n",
    "# б)\n",
    "A = np.array([[1, 1, 2, 4], [2, 5, 8, 9], [3, 18, 29, 18], [4, 22, 53,\n",
    "33]])\n",
    "U, L = LU(A)\n",
    "print(\"б) \")\n",
    "print(\"Матрица U:\")\n",
    "print(U)\n",
    "print(\"Матрица L:\")\n",
    "print(L)\n",
    "print(\"Матрица LU == A:\")\n",
    "print(L.dot(U))\n",
    "print(A)\n",
    "\n"
   ]
  },
  {
   "cell_type": "markdown",
   "id": "1d663e58",
   "metadata": {},
   "source": [
    "__7*.__ Решить систему линейных уравнений методом $LU$-разложения\n",
    "\n",
    "$$\\begin{cases}\n",
    "2x_{1}+x_{2}+3x_{3}=1 \\\\\n",
    "11x_{1}+7x_{2}+5x_{3}=-6 \\\\\n",
    "9x_{1}+8x_{2}+4x_{3}=-5\n",
    "\\end{cases}$$"
   ]
  },
  {
   "cell_type": "code",
   "execution_count": 8,
   "id": "d9eab9cd",
   "metadata": {},
   "outputs": [
    {
     "name": "stdout",
     "output_type": "stream",
     "text": [
      "x = [-4.41666667  4.08333333  1.91666667]\n",
      "Проверка\n",
      "True\n",
      "True\n",
      "True\n"
     ]
    }
   ],
   "source": [
    "def LU_slau(A, b):\n",
    "    U, L = LU(A)\n",
    "    y = np.zeros(A.shape[0])\n",
    "    x = np.zeros(A.shape[0])\n",
    "    for i in range(A.shape[0]):\n",
    "        y[i] = b[i] - (L[i, :i] * y[:i]).sum()\n",
    "    for i in range(A.shape[0]-1, -1, -1):\n",
    "        x[i] = (y[i] - (U[i, i+1:]*x[i+1:]).sum())/U[i, i]\n",
    "    return x\n",
    "A = np.array([[2, 1, 3], [11, 7, 5], [9, 8, 4]])\n",
    "b = np.array([1, -6, 5])\n",
    "x = LU_slau(A, b)\n",
    "print(f'x = {x}')\n",
    "print('Проверка')\n",
    "for i in range(len(A)):\n",
    "    print((x * A[0]).sum() == b[0])\n"
   ]
  },
  {
   "cell_type": "markdown",
   "id": "bcc30c63",
   "metadata": {},
   "source": [
    "__8*.__ Написать на Python программу с реализацией одного из изученных алгоритмов решения СЛАУ."
   ]
  },
  {
   "cell_type": "code",
   "execution_count": 9,
   "id": "c31019a3",
   "metadata": {},
   "outputs": [
    {
     "name": "stdout",
     "output_type": "stream",
     "text": [
      "[-1.0, 2.0, -2.0]\n",
      "[1.0, 2.0, 3.0]\n",
      "[1.5, 4.25, 1.75]\n",
      "[0.5, 2.5]\n",
      "[1.08, 0.040000000000000036, -0.30999999999999983, 0.6849999999999999]\n"
     ]
    }
   ],
   "source": [
    "#Метод Гаусса\n",
    "def gauss(A):\n",
    "    n = len(A)\n",
    "    for i in range(n):\n",
    "        for j in range(i, n):\n",
    "            if A[j][i] != 0:\n",
    "                if i != j:\n",
    "                    A[i], A[j] = A[j], A[i]\n",
    "                break\n",
    "        for j in range(i + 1, n):\n",
    "            if A[j][i] != 0:\n",
    "                l = -A[j][i] / A[i][i]\n",
    "                for k in range(len(A[j])):\n",
    "                    A[j][k] += l * A[i][k]\n",
    "    result = []\n",
    "    for i in range(n - 1, -1, -1):\n",
    "        if A[i][i] == 0:\n",
    "            return None\n",
    "        for j in range(len(result)):\n",
    "            A[i][len(A[i]) - 2 - j] *= result[j]\n",
    "        x = A[i][len(A[i]) - 1]\n",
    "        for j in range(len(A[i]) - 1):\n",
    "            if j != i:\n",
    "                x -= A[i][j]\n",
    "        result.append(x / A[i][i])\n",
    "    return [result[i] for i in range(len(result) - 1, -1, -1)]\n",
    "\n",
    "\n",
    "print(gauss([\n",
    "    [1, 2, 4, -5],\n",
    "    [-2, 1, -3, 10],\n",
    "    [3, -2, -5, 3]\n",
    "]))\n",
    "\n",
    "print(gauss([\n",
    "    [1, 1, 1, 6],\n",
    "    [1, -1, 2, 5],\n",
    "    [2, -1, -1, -3]\n",
    "]))\n",
    "\n",
    "print(gauss([\n",
    "    [0, 1, 1, 6],\n",
    "    [1, 0, 2, 5],\n",
    "    [2, -1, -1, -3]\n",
    "]))\n",
    "\n",
    "print(gauss([\n",
    "    [0, 2, 5],\n",
    "    [-1, -1, -3]\n",
    "]))\n",
    "\n",
    "print(gauss([\n",
    "    [2, 4, -1, 2, 4],\n",
    "    [7, -6, -1, 2, 9],\n",
    "    [9, 1, -4, 0, 11],\n",
    "    [2, 3, -4, 8, 9]\n",
    "]))\n"
   ]
  }
 ],
 "metadata": {
  "kernelspec": {
   "display_name": "Python 3 (ipykernel)",
   "language": "python",
   "name": "python3"
  },
  "language_info": {
   "codemirror_mode": {
    "name": "ipython",
    "version": 3
   },
   "file_extension": ".py",
   "mimetype": "text/x-python",
   "name": "python",
   "nbconvert_exporter": "python",
   "pygments_lexer": "ipython3",
   "version": "3.9.7"
  }
 },
 "nbformat": 4,
 "nbformat_minor": 5
}
