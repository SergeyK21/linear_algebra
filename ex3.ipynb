{
 "cells": [
  {
   "cell_type": "markdown",
   "id": "59efd243",
   "metadata": {},
   "source": [
    "__1.__ Найти собственные векторы \n",
    "и собственные значения для линейного оператора, заданного матрицей\n",
    "\n",
    "$$A=\\begin{pmatrix}\n",
    "-1 & -6\\\\ \n",
    "2 & 6\n",
    "\\end{pmatrix}.$$"
   ]
  },
  {
   "cell_type": "code",
   "execution_count": 1,
   "id": "19b8b122",
   "metadata": {},
   "outputs": [
    {
     "data": {
      "text/plain": [
       "(array([2., 3.]),\n",
       " array([[-0.89442719,  0.83205029],\n",
       "        [ 0.4472136 , -0.5547002 ]]))"
      ]
     },
     "execution_count": 1,
     "metadata": {},
     "output_type": "execute_result"
    }
   ],
   "source": [
    "import numpy as np\n",
    "A = np.array([[-1, -6], [2, 6]])\n",
    "w, v = np.linalg.eig(A)\n",
    "w, v"
   ]
  },
  {
   "cell_type": "markdown",
   "id": "bf304439",
   "metadata": {},
   "source": [
    "__2.__ Дан оператор поворота на 180 градусов, задаваемый матрицей \n",
    "\n",
    "$$A=\\begin{pmatrix}\n",
    "-1 & 0\\\\ \n",
    "0 & -1\n",
    "\\end{pmatrix}.$$\n",
    "\n",
    "Показать, что __любой__ вектор является для него собственным."
   ]
  },
  {
   "cell_type": "markdown",
   "id": "bb576c87",
   "metadata": {},
   "source": [
    "__Решение__<br>\n",
    "$$\\begin{pmatrix}\n",
    "-1 & 0\\\\ \n",
    "0 & -1\n",
    "\\end{pmatrix} \\cdot \n",
    "\\begin {pmatrix}\n",
    "x \\\\\n",
    "y\n",
    "\\end{pmatrix} = \\lambda\n",
    "\\cdot \\begin {pmatrix}\n",
    "x \\\\\n",
    "y\n",
    "\\end{pmatrix}$$\n",
    "Оператор имеет единственное собственное значение, равное $\\lambda_1 = \\lambda_2 = -1$ Запишим систему для нахождения собмтвенных векторов:\n",
    "$$\\begin{cases}\n",
    "-x = -x,\\\\\n",
    "-y = -y \n",
    "\\end{cases}$$\n",
    "Система верна при любых значениях x и y, это означает, что любой вектор является для данного оператора собственным."
   ]
  },
  {
   "cell_type": "markdown",
   "id": "c3298378",
   "metadata": {},
   "source": [
    "__3.__ Пусть линейный оператор задан матрицей\n",
    "\n",
    "$$A=\\begin{pmatrix}\n",
    "1 & 1\\\\ \n",
    "-1 & 3\n",
    "\\end{pmatrix}.$$\n",
    "\n",
    "Установить, является ли вектор $x=(1,1)$ собственным вектором этого линейного оператора."
   ]
  },
  {
   "cell_type": "markdown",
   "id": "8d655d83",
   "metadata": {},
   "source": [
    "__Решение__<br>\n",
    "Найдем собственные значения матрицы:\n",
    "$$\\begin{vmatrix}\n",
    "1 - \\lambda & 1\\\\\n",
    "-1 & 3 - \\lambda\n",
    "\\end{vmatrix} = \n",
    "(1 - \\lambda) \\cdot (3 - \\lambda) + 1 =0$$\n",
    "$$\\lambda_1 = \\lambda_2 = 2$$\n",
    "Подставим в систему наш вектор и проверим, подойдут ли заданные значения:\n",
    "$$\\begin{pmatrix}\n",
    "1 & 1\\\\\n",
    "-1 & 3\n",
    "\\end{pmatrix} \\cdot \n",
    "\\begin{pmatrix}\n",
    "1\\\\\n",
    "1\n",
    "\\end{pmatrix} = 2 \\cdot\n",
    "\\begin{pmatrix}\n",
    "1\\\\\n",
    "1\n",
    "\\end{pmatrix}$$\n",
    "$$\\begin{cases}\n",
    "2 = 2,\\\\\n",
    "2 = 2\n",
    "\\end{cases}$$\n",
    "Система верна при заданных значениях, значит, вектор является собственным"
   ]
  },
  {
   "cell_type": "markdown",
   "id": "0e4afbe4",
   "metadata": {},
   "source": [
    "**4.** Пусть линейный оператор задан матрицей\n",
    "\n",
    "$$A=\\begin{pmatrix} 0 & 3 & 0\\\\ 3 & 0 & 0\\\\ 0 & 0 & 3 \\end{pmatrix}.$$\n",
    "\n",
    "Установить, является ли вектор $x=(3, -3, -4)$ собственным вектором этого линейного оператора."
   ]
  },
  {
   "cell_type": "code",
   "execution_count": 2,
   "id": "1a1b4e3c",
   "metadata": {},
   "outputs": [
    {
     "name": "stdout",
     "output_type": "stream",
     "text": [
      "[ 3. -3.  3.]\n"
     ]
    }
   ],
   "source": [
    "A = np.array([[0, 3, 0], [3, 0, 0], [0, 0, 3]])\n",
    "v, _ = np.linalg.eig(A)\n",
    "print(v)\n"
   ]
  },
  {
   "cell_type": "code",
   "execution_count": 3,
   "id": "8bbdbd0e",
   "metadata": {},
   "outputs": [
    {
     "name": "stdout",
     "output_type": "stream",
     "text": [
      "A * vect = [ -9   9 -12]\n",
      "lambda1 * vect = [  9.  -9. -12.]\n",
      "lambda2 * vect = [-9.  9. 12.]\n",
      "lambda3 * vect = [  9.  -9. -12.]\n"
     ]
    }
   ],
   "source": [
    "vect = np.array([3, -3, -4])\n",
    "print(f'A * vect = {A.dot(vect)}')\n",
    "print(f'lambda1 * vect = {v[0] * vect}')\n",
    "print(f'lambda2 * vect = {v[1] * vect}')\n",
    "print(f'lambda3 * vect = {v[2] * vect}')"
   ]
  },
  {
   "cell_type": "markdown",
   "id": "0c6b68bc",
   "metadata": {},
   "source": [
    "Вектор не является собственным"
   ]
  },
  {
   "cell_type": "code",
   "execution_count": 4,
   "id": "18d5c976",
   "metadata": {},
   "outputs": [
    {
     "data": {
      "text/plain": [
       "array([[ 0.70710678, -0.70710678,  0.        ],\n",
       "       [ 0.70710678,  0.70710678,  0.        ],\n",
       "       [ 0.        ,  0.        ,  1.        ]])"
      ]
     },
     "execution_count": 4,
     "metadata": {},
     "output_type": "execute_result"
    }
   ],
   "source": [
    "b = np.array([[1, 1], [-1, 3]])\n",
    "v, w = np.linalg.eig(A)\n",
    "w"
   ]
  }
 ],
 "metadata": {
  "kernelspec": {
   "display_name": "Python 3 (ipykernel)",
   "language": "python",
   "name": "python3"
  },
  "language_info": {
   "codemirror_mode": {
    "name": "ipython",
    "version": 3
   },
   "file_extension": ".py",
   "mimetype": "text/x-python",
   "name": "python",
   "nbconvert_exporter": "python",
   "pygments_lexer": "ipython3",
   "version": "3.9.7"
  }
 },
 "nbformat": 4,
 "nbformat_minor": 5
}
